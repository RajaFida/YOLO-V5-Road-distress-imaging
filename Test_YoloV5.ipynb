{
  "nbformat": 4,
  "nbformat_minor": 0,
  "metadata": {
    "colab": {
      "name": "Test_YoloV5.ipynb",
      "provenance": [],
      "collapsed_sections": [],
      "toc_visible": true,
      "include_colab_link": true
    },
    "kernelspec": {
      "name": "python3",
      "display_name": "Python 3"
    },
    "language_info": {
      "name": "python"
    },
    "accelerator": "GPU"
  },
  "cells": [
    {
      "cell_type": "markdown",
      "metadata": {
        "id": "view-in-github",
        "colab_type": "text"
      },
      "source": [
        "<a href=\"https://colab.research.google.com/github/RajaFida/YOLO-V5-Road-distress-imaging/blob/main/Test_YoloV5.ipynb\" target=\"_parent\"><img src=\"https://colab.research.google.com/assets/colab-badge.svg\" alt=\"Open In Colab\"/></a>"
      ]
    },
    {
      "cell_type": "markdown",
      "metadata": {
        "id": "yFqwyM-oo_WI"
      },
      "source": [
        "# **Setup**\n",
        "\n",
        "Clone Repo"
      ]
    },
    {
      "cell_type": "code",
      "metadata": {
        "id": "mcIjnWYSRBdy"
      },
      "source": [
        "!git clone https://github.com/RajaFida/YOLO-V5-Road-distress-imaging.git  # clone repo\n",
        "%cd YOLO-V5-Road-distress-imaging"
      ],
      "execution_count": null,
      "outputs": []
    },
    {
      "cell_type": "markdown",
      "metadata": {
        "id": "My40D6d3pfio"
      },
      "source": [
        "# Install dependencies"
      ]
    },
    {
      "cell_type": "code",
      "metadata": {
        "id": "n34-lL02mPtd"
      },
      "source": [
        "!pip install -qr requirements.txt  # install dependencies (ignore errors)\n",
        "import torch\n",
        "\n",
        "from IPython.display import Image, clear_output  # to display images\n",
        "from utils.google_utils import gdrive_download  # to download models/datasets\n",
        "\n",
        "# clear_output()\n",
        "print('Setup complete. Using torch %s %s' % (torch.__version__, torch.cuda.get_device_properties(0) if torch.cuda.is_available() else 'CPU'))"
      ],
      "execution_count": null,
      "outputs": []
    },
    {
      "cell_type": "markdown",
      "metadata": {
        "id": "cj8mrKfKpmr6"
      },
      "source": [
        "# 1. Inference on cracks\n",
        "\n",
        "`detect.py` runs YOLOv5 inference on a variety of sources videos and pictures, and saves the results to `runs/detect`. \n",
        "source for video/pictures to be tested for cracks to be provided in the below command after `--source` and the coresponding weights after `--weights` i.e. last_cracks.pt or best_cracks.pt, along with the confidence of pridiction to be provided after `--conf`"
      ]
    },
    {
      "cell_type": "code",
      "metadata": {
        "id": "KdremUdQOOJF"
      },
      "source": [
        "%cd /content/YOLO-V5-Road-distress-imaging\n",
        "!python detect.py --source data/video --weights last_cracks.pt --conf 0.2 --img 416"
      ],
      "execution_count": null,
      "outputs": []
    },
    {
      "cell_type": "markdown",
      "metadata": {
        "id": "uuLkO_jTrKIW"
      },
      "source": [
        "# 2. Inference on potholes\n",
        "\n",
        "`detect.py` runs YOLOv5 inference on a variety of sources videos and pictures, and saves the results to `runs/detect`. \n",
        "source for video/pictures to be tested for potholes to be provided in the below command after `--source` and the coresponding weights after `--weights` i.e. last_potholes.pt or best_potholes.pt, along with the confidence of pridiction to be provided after `--conf`"
      ]
    },
    {
      "cell_type": "code",
      "metadata": {
        "id": "TQoFn2Q4oqwI"
      },
      "source": [
        "%cd /content/YOLO-V5-Road-distress-imaging\n",
        "!python detect.py --source data/video --weights last_potholes.pt --conf 0.3 --img 416"
      ],
      "execution_count": null,
      "outputs": []
    },
    {
      "cell_type": "markdown",
      "metadata": {
        "id": "kiAwywCnrZN_"
      },
      "source": [
        "# 3. Inference on ravelling\n",
        "\n",
        "`detect.py` runs YOLOv5 inference on a variety of sources videos and pictures, and saves the results to `runs/detect`. \n",
        "source for video/pictures to be tested for ravelling to be provided in the below command after `--source` and the coresponding weights after `--weights` i.e. last_ravelling.pt or best_ravelling.pt, along with the confidence of pridiction to be provided after `--conf`"
      ]
    },
    {
      "cell_type": "code",
      "metadata": {
        "id": "aKtbP-aMO52d"
      },
      "source": [
        "%cd /content/YOLO-V5-Road-distress-imaging\n",
        "!python detect.py --source data/video/ravelling1.mp4 --weights last_ravelling.pt --conf 0.1 --img 416"
      ],
      "execution_count": null,
      "outputs": []
    }
  ]
}